{
 "cells": [
  {
   "cell_type": "code",
   "execution_count": 36,
   "metadata": {
    "collapsed": false
   },
   "outputs": [],
   "source": [
    "import numpy as np\n",
    "import pandas as pd\n",
    "from sklearn.linear_model import LogisticRegression\n",
    "from sklearn.cross_validation import train_test_split\n",
    "from sklearn import metrics\n",
    "from sklearn.cross_validation import cross_val_score\n",
    "\n",
    "Data = pd.read_csv('crime.csv',nrows =100000)\n",
    "\n",
    "time = pd.DatetimeIndex(Data['Dispatch_Time'])\n",
    "Data['Dispatch_Time']=time.hour *60+time.minute\n",
    "\n",
    "Data = Data[['Dispatch_Time','Text_General_Code','Lon','Lat']]\n",
    "\n",
    "positive = []\n",
    "for i in Data['Dispatch_Time']:\n",
    "    positive.append(1)\n",
    "    \n",
    "Data['positive'] = positive\n",
    "\n",
    "Data = Data.dropna()\n",
    "\n",
    "scale = {\"Weapon Violations\": 0, \"Other Assaults\": 1, \"Thefts\":2,\"Vandalism/Criminal Mischief\":3,\"Theft from Vehicle\":4,\n",
    "         \"Narcotic/Drug Law Violations\":5,\"Fraud\":6,\"Recovered Stolen Motor Vehicle\":7,\"Burglary Residential\":8,\"Aggravated Assault No Firearm\":9,\"Robbery No Firearm\":10,\n",
    "         \"Motor Vehicle Theft\":11,\"Disorderly Conduct\":12,\"Robber Firearm\":13,\"Aggravated Assault Firearm\":14,\n",
    "        }\n",
    "Data['Text_General_Code'] = Data['Text_General_Code'].map(scale)\n",
    "Data = Data.dropna()\n",
    "\n",
    "\n",
    "\n"
   ]
  },
  {
   "cell_type": "code",
   "execution_count": null,
   "metadata": {
    "collapsed": true
   },
   "outputs": [],
   "source": []
  },
  {
   "cell_type": "code",
   "execution_count": 31,
   "metadata": {
    "collapsed": false
   },
   "outputs": [
    {
     "name": "stdout",
     "output_type": "stream",
     "text": [
      "    Dispatch_Time  Text_General_Code        Lon        Lat  positive\n",
      "3              69                0.0 -75.130477  40.036389         1\n",
      "5             770                2.0 -75.166412  39.940070         1\n",
      "6             873                1.0 -75.171149  39.979586         1\n",
      "12           1098                2.0 -75.160229  39.976134         1\n",
      "13             49                2.0 -75.163073  39.977872         1\n"
     ]
    }
   ],
   "source": [
    "print(Data.head())\n"
   ]
  },
  {
   "cell_type": "code",
   "execution_count": 37,
   "metadata": {
    "collapsed": false
   },
   "outputs": [],
   "source": [
    "x = Data[['Dispatch_Time','Lon','Lat']]\n",
    "y = Data[['Text_General_Code']]"
   ]
  },
  {
   "cell_type": "code",
   "execution_count": 38,
   "metadata": {
    "collapsed": false
   },
   "outputs": [
    {
     "data": {
      "text/plain": [
       "0.24060128301111258"
      ]
     },
     "execution_count": 38,
     "metadata": {},
     "output_type": "execute_result"
    }
   ],
   "source": [
    "model = LogisticRegression()\n",
    "y = np.ravel(y)\n",
    "model = model.fit(x,y)\n",
    "model.score(x,y)\n"
   ]
  },
  {
   "cell_type": "code",
   "execution_count": null,
   "metadata": {
    "collapsed": true
   },
   "outputs": [],
   "source": []
  }
 ],
 "metadata": {
  "anaconda-cloud": {},
  "kernelspec": {
   "display_name": "Python [default]",
   "language": "python",
   "name": "python3"
  },
  "language_info": {
   "codemirror_mode": {
    "name": "ipython",
    "version": 3
   },
   "file_extension": ".py",
   "mimetype": "text/x-python",
   "name": "python",
   "nbconvert_exporter": "python",
   "pygments_lexer": "ipython3",
   "version": "3.5.2"
  }
 },
 "nbformat": 4,
 "nbformat_minor": 1
}
